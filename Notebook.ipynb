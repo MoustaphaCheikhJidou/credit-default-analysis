{
 "cells": [
  {
   "cell_type": "code",
   "execution_count": 5,
   "id": "5bd84818",
   "metadata": {},
   "outputs": [],
   "source": [
    "import numpy as np # linear algebra\n",
    "import pandas as pd # data processing, CSV file I/O (e.g. pd.read_csv)\n",
    "\n",
    "import os\n",
    "for dirname, _, filenames in os.walk('/kaggle/input'):\n",
    "    for filename in filenames:\n",
    "        print(os.path.join(dirname, filename))\n",
    "\n",
    "import matplotlib.pyplot as plt\n",
    "import seaborn as sns\n",
    "%matplotlib inline\n",
    "\n",
    "sns.set_theme(style = \"darkgrid\")\n"
   ]
  },
  {
   "cell_type": "code",
   "execution_count": 6,
   "id": "248e1f82",
   "metadata": {},
   "outputs": [
    {
     "data": {
      "text/html": [
       "<div>\n",
       "<style scoped>\n",
       "    .dataframe tbody tr th:only-of-type {\n",
       "        vertical-align: middle;\n",
       "    }\n",
       "\n",
       "    .dataframe tbody tr th {\n",
       "        vertical-align: top;\n",
       "    }\n",
       "\n",
       "    .dataframe thead th {\n",
       "        text-align: right;\n",
       "    }\n",
       "</style>\n",
       "<table border=\"1\" class=\"dataframe\">\n",
       "  <thead>\n",
       "    <tr style=\"text-align: right;\">\n",
       "      <th></th>\n",
       "      <th>Unnamed: 0</th>\n",
       "      <th>id</th>\n",
       "      <th>matrim</th>\n",
       "      <th>credit</th>\n",
       "      <th>garantie</th>\n",
       "      <th>nat_garnt</th>\n",
       "      <th>age</th>\n",
       "      <th>csp</th>\n",
       "      <th>sexe</th>\n",
       "      <th>nbincident</th>\n",
       "      <th>cout</th>\n",
       "      <th>education</th>\n",
       "      <th>secteur</th>\n",
       "      <th>reactivite</th>\n",
       "      <th>recouvre</th>\n",
       "      <th>defaut_paie</th>\n",
       "    </tr>\n",
       "  </thead>\n",
       "  <tbody>\n",
       "    <tr>\n",
       "      <th>0</th>\n",
       "      <td>1</td>\n",
       "      <td>6671</td>\n",
       "      <td>Divorcé</td>\n",
       "      <td>4.153989</td>\n",
       "      <td>4.302526</td>\n",
       "      <td>Foncier</td>\n",
       "      <td>43</td>\n",
       "      <td>Commerçant</td>\n",
       "      <td>Homme</td>\n",
       "      <td>1</td>\n",
       "      <td>2.034492</td>\n",
       "      <td>Bac+</td>\n",
       "      <td>agriculture</td>\n",
       "      <td>0</td>\n",
       "      <td>0.00000</td>\n",
       "      <td>1</td>\n",
       "    </tr>\n",
       "    <tr>\n",
       "      <th>1</th>\n",
       "      <td>2</td>\n",
       "      <td>5472</td>\n",
       "      <td>Divorcé</td>\n",
       "      <td>2.787130</td>\n",
       "      <td>3.242960</td>\n",
       "      <td>Autres</td>\n",
       "      <td>36</td>\n",
       "      <td>Commerçant</td>\n",
       "      <td>Homme</td>\n",
       "      <td>1</td>\n",
       "      <td>2.739116</td>\n",
       "      <td>Bac+5</td>\n",
       "      <td>commerce</td>\n",
       "      <td>0</td>\n",
       "      <td>0.00000</td>\n",
       "      <td>1</td>\n",
       "    </tr>\n",
       "    <tr>\n",
       "      <th>2</th>\n",
       "      <td>3</td>\n",
       "      <td>6056</td>\n",
       "      <td>Marié</td>\n",
       "      <td>3.882697</td>\n",
       "      <td>3.484327</td>\n",
       "      <td>Bati</td>\n",
       "      <td>47</td>\n",
       "      <td>Cadre</td>\n",
       "      <td>Homme</td>\n",
       "      <td>1</td>\n",
       "      <td>2.238012</td>\n",
       "      <td>Bac+</td>\n",
       "      <td>tourisme</td>\n",
       "      <td>0</td>\n",
       "      <td>0.00000</td>\n",
       "      <td>1</td>\n",
       "    </tr>\n",
       "    <tr>\n",
       "      <th>3</th>\n",
       "      <td>4</td>\n",
       "      <td>8562</td>\n",
       "      <td>Divorcé</td>\n",
       "      <td>2.487469</td>\n",
       "      <td>3.567551</td>\n",
       "      <td>Foncier</td>\n",
       "      <td>45</td>\n",
       "      <td>Autre</td>\n",
       "      <td>Femme</td>\n",
       "      <td>3</td>\n",
       "      <td>2.131952</td>\n",
       "      <td>Bac+5</td>\n",
       "      <td>agriculture</td>\n",
       "      <td>1</td>\n",
       "      <td>0.34992</td>\n",
       "      <td>0</td>\n",
       "    </tr>\n",
       "    <tr>\n",
       "      <th>4</th>\n",
       "      <td>5</td>\n",
       "      <td>4629</td>\n",
       "      <td>Divorcé</td>\n",
       "      <td>2.532344</td>\n",
       "      <td>4.263836</td>\n",
       "      <td>Matriel</td>\n",
       "      <td>45</td>\n",
       "      <td>Cadre</td>\n",
       "      <td>Homme</td>\n",
       "      <td>1</td>\n",
       "      <td>2.211442</td>\n",
       "      <td>Bac+5</td>\n",
       "      <td>tic</td>\n",
       "      <td>0</td>\n",
       "      <td>0.00000</td>\n",
       "      <td>1</td>\n",
       "    </tr>\n",
       "  </tbody>\n",
       "</table>\n",
       "</div>"
      ],
      "text/plain": [
       "   Unnamed: 0    id   matrim    credit  garantie nat_garnt  age         csp  \\\n",
       "0           1  6671  Divorcé  4.153989  4.302526   Foncier   43  Commerçant   \n",
       "1           2  5472  Divorcé  2.787130  3.242960    Autres   36  Commerçant   \n",
       "2           3  6056    Marié  3.882697  3.484327      Bati   47       Cadre   \n",
       "3           4  8562  Divorcé  2.487469  3.567551   Foncier   45       Autre   \n",
       "4           5  4629  Divorcé  2.532344  4.263836   Matriel   45       Cadre   \n",
       "\n",
       "    sexe  nbincident      cout education      secteur  reactivite  recouvre  \\\n",
       "0  Homme           1  2.034492      Bac+  agriculture           0   0.00000   \n",
       "1  Homme           1  2.739116     Bac+5     commerce           0   0.00000   \n",
       "2  Homme           1  2.238012      Bac+     tourisme           0   0.00000   \n",
       "3  Femme           3  2.131952     Bac+5  agriculture           1   0.34992   \n",
       "4  Homme           1  2.211442     Bac+5          tic           0   0.00000   \n",
       "\n",
       "   defaut_paie  \n",
       "0            1  \n",
       "1            1  \n",
       "2            1  \n",
       "3            0  \n",
       "4            1  "
      ]
     },
     "execution_count": 6,
     "metadata": {},
     "output_type": "execute_result"
    }
   ],
   "source": [
    "data = pd.read_excel(\"C:/Users/HP/Downloads/Stage/Donneé/Etude_scoring.xlsx\")\n",
    "data.head()\n",
    "\n",
    "\n"
   ]
  },
  {
   "cell_type": "code",
   "execution_count": 7,
   "id": "ea20e03c",
   "metadata": {},
   "outputs": [
    {
     "name": "stdout",
     "output_type": "stream",
     "text": [
      "Rows: 355\n",
      "Columns: 16\n"
     ]
    }
   ],
   "source": [
    "rows, columns = data.shape\n",
    "print('Rows:', rows)\n",
    "print('Columns:', columns)"
   ]
  },
  {
   "cell_type": "code",
   "execution_count": 8,
   "id": "23b5e020",
   "metadata": {},
   "outputs": [
    {
     "name": "stdout",
     "output_type": "stream",
     "text": [
      "<class 'pandas.core.frame.DataFrame'>\n",
      "RangeIndex: 355 entries, 0 to 354\n",
      "Data columns (total 16 columns):\n",
      " #   Column       Non-Null Count  Dtype  \n",
      "---  ------       --------------  -----  \n",
      " 0   Unnamed: 0   355 non-null    int64  \n",
      " 1   id           355 non-null    int64  \n",
      " 2   matrim       355 non-null    object \n",
      " 3   credit       355 non-null    float64\n",
      " 4   garantie     355 non-null    float64\n",
      " 5   nat_garnt    355 non-null    object \n",
      " 6   age          355 non-null    int64  \n",
      " 7   csp          355 non-null    object \n",
      " 8   sexe         355 non-null    object \n",
      " 9   nbincident   355 non-null    int64  \n",
      " 10  cout         355 non-null    float64\n",
      " 11  education    355 non-null    object \n",
      " 12  secteur      355 non-null    object \n",
      " 13  reactivite   355 non-null    int64  \n",
      " 14  recouvre     355 non-null    float64\n",
      " 15  defaut_paie  355 non-null    int64  \n",
      "dtypes: float64(4), int64(6), object(6)\n",
      "memory usage: 44.5+ KB\n"
     ]
    }
   ],
   "source": [
    "data.info()\n"
   ]
  },
  {
   "cell_type": "code",
   "execution_count": 9,
   "id": "63b1b2ee",
   "metadata": {},
   "outputs": [
    {
     "data": {
      "text/plain": [
       "Unnamed: 0     0\n",
       "id             0\n",
       "matrim         0\n",
       "credit         0\n",
       "garantie       0\n",
       "nat_garnt      0\n",
       "age            0\n",
       "csp            0\n",
       "sexe           0\n",
       "nbincident     0\n",
       "cout           0\n",
       "education      0\n",
       "secteur        0\n",
       "reactivite     0\n",
       "recouvre       0\n",
       "defaut_paie    0\n",
       "dtype: int64"
      ]
     },
     "execution_count": 9,
     "metadata": {},
     "output_type": "execute_result"
    }
   ],
   "source": [
    "data.isnull().sum()"
   ]
  },
  {
   "cell_type": "code",
   "execution_count": 10,
   "id": "1118a7b4",
   "metadata": {},
   "outputs": [
    {
     "data": {
      "text/plain": [
       "Index(['Unnamed: 0', 'id', 'matrim', 'credit', 'garantie', 'nat_garnt', 'age',\n",
       "       'csp', 'sexe', 'nbincident', 'cout', 'education', 'secteur',\n",
       "       'reactivite', 'recouvre', 'defaut_paie'],\n",
       "      dtype='object')"
      ]
     },
     "execution_count": 10,
     "metadata": {},
     "output_type": "execute_result"
    }
   ],
   "source": [
    "data.columns"
   ]
  },
  {
   "cell_type": "code",
   "execution_count": 11,
   "id": "94faa9c8",
   "metadata": {},
   "outputs": [
    {
     "data": {
      "text/html": [
       "<div>\n",
       "<style scoped>\n",
       "    .dataframe tbody tr th:only-of-type {\n",
       "        vertical-align: middle;\n",
       "    }\n",
       "\n",
       "    .dataframe tbody tr th {\n",
       "        vertical-align: top;\n",
       "    }\n",
       "\n",
       "    .dataframe thead th {\n",
       "        text-align: right;\n",
       "    }\n",
       "</style>\n",
       "<table border=\"1\" class=\"dataframe\">\n",
       "  <thead>\n",
       "    <tr style=\"text-align: right;\">\n",
       "      <th></th>\n",
       "      <th>Unnamed: 0</th>\n",
       "      <th>id</th>\n",
       "      <th>credit</th>\n",
       "      <th>garantie</th>\n",
       "      <th>age</th>\n",
       "      <th>nbincident</th>\n",
       "      <th>cout</th>\n",
       "      <th>reactivite</th>\n",
       "      <th>recouvre</th>\n",
       "      <th>defaut_paie</th>\n",
       "    </tr>\n",
       "  </thead>\n",
       "  <tbody>\n",
       "    <tr>\n",
       "      <th>count</th>\n",
       "      <td>355.000000</td>\n",
       "      <td>355.000000</td>\n",
       "      <td>355.000000</td>\n",
       "      <td>355.000000</td>\n",
       "      <td>355.000000</td>\n",
       "      <td>355.000000</td>\n",
       "      <td>355.000000</td>\n",
       "      <td>355.000000</td>\n",
       "      <td>355.000000</td>\n",
       "      <td>355.000000</td>\n",
       "    </tr>\n",
       "    <tr>\n",
       "      <th>mean</th>\n",
       "      <td>178.000000</td>\n",
       "      <td>5170.166197</td>\n",
       "      <td>3.543439</td>\n",
       "      <td>4.140199</td>\n",
       "      <td>43.053521</td>\n",
       "      <td>1.140845</td>\n",
       "      <td>1.929777</td>\n",
       "      <td>0.298592</td>\n",
       "      <td>0.274388</td>\n",
       "      <td>0.701408</td>\n",
       "    </tr>\n",
       "    <tr>\n",
       "      <th>std</th>\n",
       "      <td>102.623909</td>\n",
       "      <td>2976.811552</td>\n",
       "      <td>1.175870</td>\n",
       "      <td>0.950974</td>\n",
       "      <td>4.023232</td>\n",
       "      <td>1.034651</td>\n",
       "      <td>0.483705</td>\n",
       "      <td>0.458286</td>\n",
       "      <td>0.492713</td>\n",
       "      <td>0.458286</td>\n",
       "    </tr>\n",
       "    <tr>\n",
       "      <th>min</th>\n",
       "      <td>1.000000</td>\n",
       "      <td>115.000000</td>\n",
       "      <td>0.468834</td>\n",
       "      <td>1.610134</td>\n",
       "      <td>31.000000</td>\n",
       "      <td>0.000000</td>\n",
       "      <td>0.681411</td>\n",
       "      <td>0.000000</td>\n",
       "      <td>-0.298511</td>\n",
       "      <td>0.000000</td>\n",
       "    </tr>\n",
       "    <tr>\n",
       "      <th>25%</th>\n",
       "      <td>89.500000</td>\n",
       "      <td>2471.000000</td>\n",
       "      <td>2.640963</td>\n",
       "      <td>3.497140</td>\n",
       "      <td>40.000000</td>\n",
       "      <td>0.000000</td>\n",
       "      <td>1.642113</td>\n",
       "      <td>0.000000</td>\n",
       "      <td>0.000000</td>\n",
       "      <td>0.000000</td>\n",
       "    </tr>\n",
       "    <tr>\n",
       "      <th>50%</th>\n",
       "      <td>178.000000</td>\n",
       "      <td>5134.000000</td>\n",
       "      <td>3.470355</td>\n",
       "      <td>4.154984</td>\n",
       "      <td>43.000000</td>\n",
       "      <td>1.000000</td>\n",
       "      <td>1.958206</td>\n",
       "      <td>0.000000</td>\n",
       "      <td>0.000000</td>\n",
       "      <td>1.000000</td>\n",
       "    </tr>\n",
       "    <tr>\n",
       "      <th>75%</th>\n",
       "      <td>266.500000</td>\n",
       "      <td>7927.000000</td>\n",
       "      <td>4.254762</td>\n",
       "      <td>4.828901</td>\n",
       "      <td>46.000000</td>\n",
       "      <td>2.000000</td>\n",
       "      <td>2.217111</td>\n",
       "      <td>1.000000</td>\n",
       "      <td>0.388721</td>\n",
       "      <td>1.000000</td>\n",
       "    </tr>\n",
       "    <tr>\n",
       "      <th>max</th>\n",
       "      <td>355.000000</td>\n",
       "      <td>9969.000000</td>\n",
       "      <td>6.977040</td>\n",
       "      <td>6.295663</td>\n",
       "      <td>52.000000</td>\n",
       "      <td>5.000000</td>\n",
       "      <td>3.074833</td>\n",
       "      <td>1.000000</td>\n",
       "      <td>2.021668</td>\n",
       "      <td>1.000000</td>\n",
       "    </tr>\n",
       "  </tbody>\n",
       "</table>\n",
       "</div>"
      ],
      "text/plain": [
       "       Unnamed: 0           id      credit    garantie         age  \\\n",
       "count  355.000000   355.000000  355.000000  355.000000  355.000000   \n",
       "mean   178.000000  5170.166197    3.543439    4.140199   43.053521   \n",
       "std    102.623909  2976.811552    1.175870    0.950974    4.023232   \n",
       "min      1.000000   115.000000    0.468834    1.610134   31.000000   \n",
       "25%     89.500000  2471.000000    2.640963    3.497140   40.000000   \n",
       "50%    178.000000  5134.000000    3.470355    4.154984   43.000000   \n",
       "75%    266.500000  7927.000000    4.254762    4.828901   46.000000   \n",
       "max    355.000000  9969.000000    6.977040    6.295663   52.000000   \n",
       "\n",
       "       nbincident        cout  reactivite    recouvre  defaut_paie  \n",
       "count  355.000000  355.000000  355.000000  355.000000   355.000000  \n",
       "mean     1.140845    1.929777    0.298592    0.274388     0.701408  \n",
       "std      1.034651    0.483705    0.458286    0.492713     0.458286  \n",
       "min      0.000000    0.681411    0.000000   -0.298511     0.000000  \n",
       "25%      0.000000    1.642113    0.000000    0.000000     0.000000  \n",
       "50%      1.000000    1.958206    0.000000    0.000000     1.000000  \n",
       "75%      2.000000    2.217111    1.000000    0.388721     1.000000  \n",
       "max      5.000000    3.074833    1.000000    2.021668     1.000000  "
      ]
     },
     "execution_count": 11,
     "metadata": {},
     "output_type": "execute_result"
    }
   ],
   "source": [
    "data.describe()"
   ]
  },
  {
   "cell_type": "code",
   "execution_count": 12,
   "id": "8dd9d39c",
   "metadata": {},
   "outputs": [
    {
     "data": {
      "text/html": [
       "<div>\n",
       "<style scoped>\n",
       "    .dataframe tbody tr th:only-of-type {\n",
       "        vertical-align: middle;\n",
       "    }\n",
       "\n",
       "    .dataframe tbody tr th {\n",
       "        vertical-align: top;\n",
       "    }\n",
       "\n",
       "    .dataframe thead th {\n",
       "        text-align: right;\n",
       "    }\n",
       "</style>\n",
       "<table border=\"1\" class=\"dataframe\">\n",
       "  <thead>\n",
       "    <tr style=\"text-align: right;\">\n",
       "      <th></th>\n",
       "      <th>Unnamed: 0</th>\n",
       "      <th>id</th>\n",
       "      <th>credit</th>\n",
       "      <th>garantie</th>\n",
       "      <th>age</th>\n",
       "      <th>nbincident</th>\n",
       "      <th>cout</th>\n",
       "      <th>reactivite</th>\n",
       "      <th>recouvre</th>\n",
       "      <th>defaut_paie</th>\n",
       "    </tr>\n",
       "  </thead>\n",
       "  <tbody>\n",
       "    <tr>\n",
       "      <th>Unnamed: 0</th>\n",
       "      <td>1.000000</td>\n",
       "      <td>0.039431</td>\n",
       "      <td>-0.019719</td>\n",
       "      <td>0.010477</td>\n",
       "      <td>-0.000842</td>\n",
       "      <td>0.001836</td>\n",
       "      <td>-0.021341</td>\n",
       "      <td>0.037059</td>\n",
       "      <td>0.043531</td>\n",
       "      <td>-0.037059</td>\n",
       "    </tr>\n",
       "    <tr>\n",
       "      <th>id</th>\n",
       "      <td>0.039431</td>\n",
       "      <td>1.000000</td>\n",
       "      <td>0.022285</td>\n",
       "      <td>0.052479</td>\n",
       "      <td>-0.068221</td>\n",
       "      <td>-0.087580</td>\n",
       "      <td>-0.054844</td>\n",
       "      <td>0.089584</td>\n",
       "      <td>0.087323</td>\n",
       "      <td>-0.089584</td>\n",
       "    </tr>\n",
       "    <tr>\n",
       "      <th>credit</th>\n",
       "      <td>-0.019719</td>\n",
       "      <td>0.022285</td>\n",
       "      <td>1.000000</td>\n",
       "      <td>-0.098862</td>\n",
       "      <td>0.017953</td>\n",
       "      <td>-0.009896</td>\n",
       "      <td>-0.042315</td>\n",
       "      <td>-0.060805</td>\n",
       "      <td>-0.053351</td>\n",
       "      <td>0.060805</td>\n",
       "    </tr>\n",
       "    <tr>\n",
       "      <th>garantie</th>\n",
       "      <td>0.010477</td>\n",
       "      <td>0.052479</td>\n",
       "      <td>-0.098862</td>\n",
       "      <td>1.000000</td>\n",
       "      <td>-0.033110</td>\n",
       "      <td>-0.188226</td>\n",
       "      <td>0.061163</td>\n",
       "      <td>0.022654</td>\n",
       "      <td>0.033303</td>\n",
       "      <td>-0.022654</td>\n",
       "    </tr>\n",
       "    <tr>\n",
       "      <th>age</th>\n",
       "      <td>-0.000842</td>\n",
       "      <td>-0.068221</td>\n",
       "      <td>0.017953</td>\n",
       "      <td>-0.033110</td>\n",
       "      <td>1.000000</td>\n",
       "      <td>0.021257</td>\n",
       "      <td>-0.009158</td>\n",
       "      <td>0.029610</td>\n",
       "      <td>0.046022</td>\n",
       "      <td>-0.029610</td>\n",
       "    </tr>\n",
       "    <tr>\n",
       "      <th>nbincident</th>\n",
       "      <td>0.001836</td>\n",
       "      <td>-0.087580</td>\n",
       "      <td>-0.009896</td>\n",
       "      <td>-0.188226</td>\n",
       "      <td>0.021257</td>\n",
       "      <td>1.000000</td>\n",
       "      <td>-0.079127</td>\n",
       "      <td>-0.029368</td>\n",
       "      <td>-0.084732</td>\n",
       "      <td>0.029368</td>\n",
       "    </tr>\n",
       "    <tr>\n",
       "      <th>cout</th>\n",
       "      <td>-0.021341</td>\n",
       "      <td>-0.054844</td>\n",
       "      <td>-0.042315</td>\n",
       "      <td>0.061163</td>\n",
       "      <td>-0.009158</td>\n",
       "      <td>-0.079127</td>\n",
       "      <td>1.000000</td>\n",
       "      <td>0.001660</td>\n",
       "      <td>0.024326</td>\n",
       "      <td>-0.001660</td>\n",
       "    </tr>\n",
       "    <tr>\n",
       "      <th>reactivite</th>\n",
       "      <td>0.037059</td>\n",
       "      <td>0.089584</td>\n",
       "      <td>-0.060805</td>\n",
       "      <td>0.022654</td>\n",
       "      <td>0.029610</td>\n",
       "      <td>-0.029368</td>\n",
       "      <td>0.001660</td>\n",
       "      <td>1.000000</td>\n",
       "      <td>0.854731</td>\n",
       "      <td>-1.000000</td>\n",
       "    </tr>\n",
       "    <tr>\n",
       "      <th>recouvre</th>\n",
       "      <td>0.043531</td>\n",
       "      <td>0.087323</td>\n",
       "      <td>-0.053351</td>\n",
       "      <td>0.033303</td>\n",
       "      <td>0.046022</td>\n",
       "      <td>-0.084732</td>\n",
       "      <td>0.024326</td>\n",
       "      <td>0.854731</td>\n",
       "      <td>1.000000</td>\n",
       "      <td>-0.854731</td>\n",
       "    </tr>\n",
       "    <tr>\n",
       "      <th>defaut_paie</th>\n",
       "      <td>-0.037059</td>\n",
       "      <td>-0.089584</td>\n",
       "      <td>0.060805</td>\n",
       "      <td>-0.022654</td>\n",
       "      <td>-0.029610</td>\n",
       "      <td>0.029368</td>\n",
       "      <td>-0.001660</td>\n",
       "      <td>-1.000000</td>\n",
       "      <td>-0.854731</td>\n",
       "      <td>1.000000</td>\n",
       "    </tr>\n",
       "  </tbody>\n",
       "</table>\n",
       "</div>"
      ],
      "text/plain": [
       "             Unnamed: 0        id    credit  garantie       age  nbincident  \\\n",
       "Unnamed: 0     1.000000  0.039431 -0.019719  0.010477 -0.000842    0.001836   \n",
       "id             0.039431  1.000000  0.022285  0.052479 -0.068221   -0.087580   \n",
       "credit        -0.019719  0.022285  1.000000 -0.098862  0.017953   -0.009896   \n",
       "garantie       0.010477  0.052479 -0.098862  1.000000 -0.033110   -0.188226   \n",
       "age           -0.000842 -0.068221  0.017953 -0.033110  1.000000    0.021257   \n",
       "nbincident     0.001836 -0.087580 -0.009896 -0.188226  0.021257    1.000000   \n",
       "cout          -0.021341 -0.054844 -0.042315  0.061163 -0.009158   -0.079127   \n",
       "reactivite     0.037059  0.089584 -0.060805  0.022654  0.029610   -0.029368   \n",
       "recouvre       0.043531  0.087323 -0.053351  0.033303  0.046022   -0.084732   \n",
       "defaut_paie   -0.037059 -0.089584  0.060805 -0.022654 -0.029610    0.029368   \n",
       "\n",
       "                 cout  reactivite  recouvre  defaut_paie  \n",
       "Unnamed: 0  -0.021341    0.037059  0.043531    -0.037059  \n",
       "id          -0.054844    0.089584  0.087323    -0.089584  \n",
       "credit      -0.042315   -0.060805 -0.053351     0.060805  \n",
       "garantie     0.061163    0.022654  0.033303    -0.022654  \n",
       "age         -0.009158    0.029610  0.046022    -0.029610  \n",
       "nbincident  -0.079127   -0.029368 -0.084732     0.029368  \n",
       "cout         1.000000    0.001660  0.024326    -0.001660  \n",
       "reactivite   0.001660    1.000000  0.854731    -1.000000  \n",
       "recouvre     0.024326    0.854731  1.000000    -0.854731  \n",
       "defaut_paie -0.001660   -1.000000 -0.854731     1.000000  "
      ]
     },
     "execution_count": 12,
     "metadata": {},
     "output_type": "execute_result"
    }
   ],
   "source": [
    "data.corr()"
   ]
  },
  {
   "cell_type": "code",
   "execution_count": 13,
   "id": "451dbb6b",
   "metadata": {},
   "outputs": [
    {
     "data": {
      "image/png": "[encoded data removed]",
      "text/plain": [
       "<Figure size 1584x1440 with 12 Axes>"
      ]
     },
     "metadata": {},
     "output_type": "display_data"
    }
   ],
   "source": [
    "data.hist( figsize = (22, 20) )\n",
    "plt.show()"
   ]
  },
  {
   "cell_type": "code",
   "execution_count": 14,
   "id": "5d27dae8",
   "metadata": {},
   "outputs": [
    {
     "data": {
      "text/plain": [
       "1    249\n",
       "0    106\n",
       "Name: defaut_paie, dtype: int64"
      ]
     },
     "execution_count": 14,
     "metadata": {},
     "output_type": "execute_result"
    }
   ],
   "source": [
    "data[\"defaut_paie\"].value_counts()"
   ]
  },
  {
   "cell_type": "code",
   "execution_count": 15,
   "id": "927e6f4f",
   "metadata": {},
   "outputs": [
    {
     "data": {
      "image/png": "[encoded data removed]",
      "text/plain": [
       "<Figure size 864x576 with 2 Axes>"
      ]
     },
     "metadata": {},
     "output_type": "display_data"
    }
   ],
   "source": [
    "fig, ax = plt.subplots( figsize = (12,8) )\n",
    "\n",
    "corr_matrix = data.corr()\n",
    "corr_heatmap = sns.heatmap( corr_matrix, cmap = \"flare\", annot=True, ax=ax, annot_kws={\"size\": 14})\n",
    "\n",
    "plt.show()"
   ]
  },
  {
   "cell_type": "code",
   "execution_count": 16,
   "id": "948e1110",
   "metadata": {},
   "outputs": [],
   "source": [
    "def categorical_valcount_hist(feature):\n",
    "    print(data[feature].value_counts())\n",
    "    fig, ax = plt.subplots( figsize = (6,6) )\n",
    "    sns.countplot(x=feature, ax=ax, data=data)\n",
    "    plt.show()"
   ]
  },
  {
   "cell_type": "code",
   "execution_count": 17,
   "id": "1ba19803",
   "metadata": {},
   "outputs": [
    {
     "name": "stdout",
     "output_type": "stream",
     "text": [
      "Marié         226\n",
      "Divorcé        82\n",
      "Celibatire     24\n",
      "Autre          23\n",
      "Name: matrim, dtype: int64\n"
     ]
    },
    {
     "data": {
      "image/png": "[encoded data removed]",
      "text/plain": [
       "<Figure size 432x432 with 1 Axes>"
      ]
     },
     "metadata": {},
     "output_type": "display_data"
    }
   ],
   "source": [
    "categorical_valcount_hist(\"matrim\")"
   ]
  },
  {
   "cell_type": "code",
   "execution_count": 18,
   "id": "9c8b1ac5",
   "metadata": {},
   "outputs": [
    {
     "name": "stdout",
     "output_type": "stream",
     "text": [
      "Bac+            160\n",
      "Bac+5           138\n",
      "Traditionnel     36\n",
      "Primaire         19\n",
      "Autres            2\n",
      "Name: education, dtype: int64\n"
     ]
    },
    {
     "data": {
      "image/png": "[encoded data removed]",
      "text/plain": [
       "<Figure size 432x432 with 1 Axes>"
      ]
     },
     "metadata": {},
     "output_type": "display_data"
    }
   ],
   "source": [
    "categorical_valcount_hist(\"education\")"
   ]
  },
  {
   "cell_type": "code",
   "execution_count": 19,
   "id": "0f17fefe",
   "metadata": {},
   "outputs": [
    {
     "name": "stdout",
     "output_type": "stream",
     "text": [
      "Homme    264\n",
      "Femme     91\n",
      "Name: sexe, dtype: int64\n"
     ]
    },
    {
     "data": {
      "image/png": "[encoded data removed]",
      "text/plain": [
       "<Figure size 432x432 with 1 Axes>"
      ]
     },
     "metadata": {},
     "output_type": "display_data"
    }
   ],
   "source": [
    "categorical_valcount_hist(\"sexe\")"
   ]
  },
  {
   "cell_type": "code",
   "execution_count": 20,
   "id": "d10de855",
   "metadata": {},
   "outputs": [
    {
     "name": "stdout",
     "output_type": "stream",
     "text": [
      "Total categories in Secteur: 7\n",
      "\n"
     ]
    },
    {
     "data": {
      "text/plain": [
       "agriculture    77\n",
       "commerce       74\n",
       "tourisme       68\n",
       "services       52\n",
       "industrie      45\n",
       "tic            36\n",
       "autres          3\n",
       "Name: secteur, dtype: int64"
      ]
     },
     "execution_count": 20,
     "metadata": {},
     "output_type": "execute_result"
    }
   ],
   "source": [
    "print( \"Total categories in Secteur:\", len( data[\"secteur\"].unique() ) )\n",
    "print()\n",
    "data[\"secteur\"].value_counts()"
   ]
  },
  {
   "cell_type": "code",
   "execution_count": 21,
   "id": "30571ec7",
   "metadata": {},
   "outputs": [
    {
     "name": "stdout",
     "output_type": "stream",
     "text": [
      "<class 'pandas.core.frame.DataFrame'>\n",
      "RangeIndex: 355 entries, 0 to 354\n",
      "Data columns (total 16 columns):\n",
      " #   Column       Non-Null Count  Dtype  \n",
      "---  ------       --------------  -----  \n",
      " 0   Unnamed: 0   355 non-null    int64  \n",
      " 1   id           355 non-null    int64  \n",
      " 2   matrim       355 non-null    object \n",
      " 3   credit       355 non-null    float64\n",
      " 4   garantie     355 non-null    float64\n",
      " 5   nat_garnt    355 non-null    object \n",
      " 6   age          355 non-null    int64  \n",
      " 7   csp          355 non-null    object \n",
      " 8   sexe         355 non-null    object \n",
      " 9   nbincident   355 non-null    int64  \n",
      " 10  cout         355 non-null    float64\n",
      " 11  education    355 non-null    object \n",
      " 12  secteur      355 non-null    object \n",
      " 13  reactivite   355 non-null    int64  \n",
      " 14  recouvre     355 non-null    float64\n",
      " 15  defaut_paie  355 non-null    int64  \n",
      "dtypes: float64(4), int64(6), object(6)\n",
      "memory usage: 44.5+ KB\n"
     ]
    }
   ],
   "source": [
    "\n",
    "\n",
    "data.info()\n",
    "\n"
   ]
  },
  {
   "cell_type": "code",
   "execution_count": 22,
   "id": "64cf475c",
   "metadata": {},
   "outputs": [
    {
     "data": {
      "text/plain": [
       "<AxesSubplot:xlabel='defaut_paie', ylabel='credit'>"
      ]
     },
     "execution_count": 22,
     "metadata": {},
     "output_type": "execute_result"
    },
    {
     "data": {
      "image/png": "[encoded data removed]",
      "text/plain": [
       "<Figure size 432x288 with 1 Axes>"
      ]
     },
     "metadata": {},
     "output_type": "display_data"
    }
   ],
   "source": [
    "sns.boxplot(x =\"defaut_paie\",y=\"credit\" ,data = data)\n"
   ]
  },
  {
   "cell_type": "code",
   "execution_count": 23,
   "id": "ab474d8c",
   "metadata": {},
   "outputs": [
    {
     "data": {
      "text/plain": [
       "<AxesSubplot:xlabel='defaut_paie', ylabel='garantie'>"
      ]
     },
     "execution_count": 23,
     "metadata": {},
     "output_type": "execute_result"
    },
    {
     "data": {
      "image/png": "[encoded data removed]",
      "text/plain": [
       "<Figure size 432x288 with 1 Axes>"
      ]
     },
     "metadata": {},
     "output_type": "display_data"
    }
   ],
   "source": [
    "sns.boxplot(x =\"defaut_paie\",y=\"garantie\" ,data = data)\n"
   ]
  },
  {
   "cell_type": "code",
   "execution_count": 24,
   "id": "617008b3",
   "metadata": {},
   "outputs": [
    {
     "data": {
      "text/plain": [
       "<AxesSubplot:xlabel='defaut_paie', ylabel='age'>"
      ]
     },
     "execution_count": 24,
     "metadata": {},
     "output_type": "execute_result"
    },
    {
     "data": {
      "image/png": "[encoded data removed]",
      "text/plain": [
       "<Figure size 432x288 with 1 Axes>"
      ]
     },
     "metadata": {},
     "output_type": "display_data"
    }
   ],
   "source": [
    "sns.boxplot(x =\"defaut_paie\",y=\"age\" ,data = data)\n"
   ]
  },
  {
   "cell_type": "code",
   "execution_count": 25,
   "id": "4f974d17",
   "metadata": {},
   "outputs": [
    {
     "data": {
      "text/plain": [
       "<AxesSubplot:xlabel='defaut_paie', ylabel='nbincident'>"
      ]
     },
     "execution_count": 25,
     "metadata": {},
     "output_type": "execute_result"
    },
    {
     "data": {
      "image/png": "[encoded data removed]",
      "text/plain": [
       "<Figure size 432x288 with 1 Axes>"
      ]
     },
     "metadata": {},
     "output_type": "display_data"
    }
   ],
   "source": [
    "sns.boxplot(x =\"defaut_paie\",y=\"nbincident\" ,data = data)"
   ]
  },
  {
   "cell_type": "code",
   "execution_count": 26,
   "id": "7ce0f645",
   "metadata": {},
   "outputs": [
    {
     "data": {
      "text/plain": [
       "<AxesSubplot:xlabel='csp', ylabel='count'>"
      ]
     },
     "execution_count": 26,
     "metadata": {},
     "output_type": "execute_result"
    },
    {
     "data": {
      "image/png": "[encoded data removed]",
      "text/plain": [
       "<Figure size 576x432 with 1 Axes>"
      ]
     },
     "metadata": {},
     "output_type": "display_data"
    }
   ],
   "source": [
    "fig, ax = plt.subplots( figsize = (8, 6) )\n",
    "sns.countplot(x='csp', hue='defaut_paie', ax=ax, data=data)"
   ]
  },
  {
   "cell_type": "code",
   "execution_count": 27,
   "id": "08ad0fd9",
   "metadata": {},
   "outputs": [
    {
     "data": {
      "text/plain": [
       "<AxesSubplot:xlabel='nat_garnt', ylabel='count'>"
      ]
     },
     "execution_count": 27,
     "metadata": {},
     "output_type": "execute_result"
    },
    {
     "data": {
      "image/png": "[encoded data removed]",
      "text/plain": [
       "<Figure size 576x432 with 1 Axes>"
      ]
     },
     "metadata": {},
     "output_type": "display_data"
    }
   ],
   "source": [
    "fig, ax = plt.subplots( figsize = (8, 6) )\n",
    "sns.countplot(x='nat_garnt', hue='defaut_paie', ax=ax, data=data)"
   ]
  },
  {
   "cell_type": "code",
   "execution_count": 28,
   "id": "284d5ae3",
   "metadata": {},
   "outputs": [
    {
     "data": {
      "text/plain": [
       "<AxesSubplot:xlabel='matrim', ylabel='count'>"
      ]
     },
     "execution_count": 28,
     "metadata": {},
     "output_type": "execute_result"
    },
    {
     "data": {
      "image/png": "[encoded data removed]",
      "text/plain": [
       "<Figure size 576x432 with 1 Axes>"
      ]
     },
     "metadata": {},
     "output_type": "display_data"
    }
   ],
   "source": [
    "fig, ax = plt.subplots( figsize = (8, 6) )\n",
    "sns.countplot(x='matrim', hue='defaut_paie', ax=ax, data=data)"
   ]
  },
  {
   "cell_type": "code",
   "execution_count": null,
   "id": "d5b71082",
   "metadata": {},
   "outputs": [],
   "source": [
    "\n"
   ]
  },
  {
   "cell_type": "code",
   "execution_count": 29,
   "id": "ad7766c6",
   "metadata": {},
   "outputs": [],
   "source": [
    "from sklearn.preprocessing import LabelEncoder\n",
    "from sklearn.preprocessing import OneHotEncoder\n",
    "import category_encoders as ce"
   ]
  },
  {
   "cell_type": "code",
   "execution_count": 30,
   "id": "4874f0d3",
   "metadata": {},
   "outputs": [
    {
     "name": "stdout",
     "output_type": "stream",
     "text": [
      "<class 'pandas.core.frame.DataFrame'>\n",
      "RangeIndex: 355 entries, 0 to 354\n",
      "Data columns (total 16 columns):\n",
      " #   Column       Non-Null Count  Dtype  \n",
      "---  ------       --------------  -----  \n",
      " 0   Unnamed: 0   355 non-null    int64  \n",
      " 1   id           355 non-null    int64  \n",
      " 2   matrim       355 non-null    object \n",
      " 3   credit       355 non-null    float64\n",
      " 4   garantie     355 non-null    float64\n",
      " 5   nat_garnt    355 non-null    object \n",
      " 6   age          355 non-null    int64  \n",
      " 7   csp          355 non-null    object \n",
      " 8   sexe         355 non-null    object \n",
      " 9   nbincident   355 non-null    int64  \n",
      " 10  cout         355 non-null    float64\n",
      " 11  education    355 non-null    object \n",
      " 12  secteur      355 non-null    object \n",
      " 13  reactivite   355 non-null    int64  \n",
      " 14  recouvre     355 non-null    float64\n",
      " 15  defaut_paie  355 non-null    int64  \n",
      "dtypes: float64(4), int64(6), object(6)\n",
      "memory usage: 44.5+ KB\n"
     ]
    }
   ],
   "source": [
    "data.info()"
   ]
  },
  {
   "cell_type": "code",
   "execution_count": 31,
   "id": "4e723cd8",
   "metadata": {},
   "outputs": [],
   "source": [
    "label_encoder = LabelEncoder()\n",
    "\n",
    "for col in ['matrim','education']:\n",
    "    data[col] = label_encoder.fit_transform( data[col] )"
   ]
  },
  {
   "cell_type": "code",
   "execution_count": 32,
   "id": "38c682a9",
   "metadata": {},
   "outputs": [],
   "source": [
    "onehot_encoder = OneHotEncoder(sparse = False)\n",
    "data['secteur'] = onehot_encoder.fit_transform(data['secteur'].values.reshape(-1, 1) )"
   ]
  },
  {
   "cell_type": "code",
   "execution_count": 33,
   "id": "d020d9ab",
   "metadata": {},
   "outputs": [],
   "source": [
    "high_card_features = ['csp', 'nat_garnt']\n",
    "\n",
    "count_encoder = ce.CountEncoder()\n",
    "\n",
    "# Transform the features, rename the columns with the _count suffix, and join to dataframe\n",
    "count_encoded = count_encoder.fit_transform( data[high_card_features] )\n",
    "data = data.join(count_encoded.add_suffix(\"_count\"))"
   ]
  },
  {
   "cell_type": "code",
   "execution_count": 34,
   "id": "220d475c",
   "metadata": {},
   "outputs": [
    {
     "data": {
      "text/html": [
       "<div>\n",
       "<style scoped>\n",
       "    .dataframe tbody tr th:only-of-type {\n",
       "        vertical-align: middle;\n",
       "    }\n",
       "\n",
       "    .dataframe tbody tr th {\n",
       "        vertical-align: top;\n",
       "    }\n",
       "\n",
       "    .dataframe thead th {\n",
       "        text-align: right;\n",
       "    }\n",
       "</style>\n",
       "<table border=\"1\" class=\"dataframe\">\n",
       "  <thead>\n",
       "    <tr style=\"text-align: right;\">\n",
       "      <th></th>\n",
       "      <th>Unnamed: 0</th>\n",
       "      <th>id</th>\n",
       "      <th>matrim</th>\n",
       "      <th>credit</th>\n",
       "      <th>garantie</th>\n",
       "      <th>nat_garnt</th>\n",
       "      <th>age</th>\n",
       "      <th>csp</th>\n",
       "      <th>sexe</th>\n",
       "      <th>nbincident</th>\n",
       "      <th>cout</th>\n",
       "      <th>education</th>\n",
       "      <th>secteur</th>\n",
       "      <th>reactivite</th>\n",
       "      <th>recouvre</th>\n",
       "      <th>defaut_paie</th>\n",
       "      <th>csp_count</th>\n",
       "      <th>nat_garnt_count</th>\n",
       "    </tr>\n",
       "  </thead>\n",
       "  <tbody>\n",
       "    <tr>\n",
       "      <th>0</th>\n",
       "      <td>1</td>\n",
       "      <td>6671</td>\n",
       "      <td>2</td>\n",
       "      <td>4.153989</td>\n",
       "      <td>4.302526</td>\n",
       "      <td>Foncier</td>\n",
       "      <td>43</td>\n",
       "      <td>Commerçant</td>\n",
       "      <td>Homme</td>\n",
       "      <td>1</td>\n",
       "      <td>2.034492</td>\n",
       "      <td>1</td>\n",
       "      <td>1.0</td>\n",
       "      <td>0</td>\n",
       "      <td>0.00000</td>\n",
       "      <td>1</td>\n",
       "      <td>174</td>\n",
       "      <td>120</td>\n",
       "    </tr>\n",
       "    <tr>\n",
       "      <th>1</th>\n",
       "      <td>2</td>\n",
       "      <td>5472</td>\n",
       "      <td>2</td>\n",
       "      <td>2.787130</td>\n",
       "      <td>3.242960</td>\n",
       "      <td>Autres</td>\n",
       "      <td>36</td>\n",
       "      <td>Commerçant</td>\n",
       "      <td>Homme</td>\n",
       "      <td>1</td>\n",
       "      <td>2.739116</td>\n",
       "      <td>2</td>\n",
       "      <td>0.0</td>\n",
       "      <td>0</td>\n",
       "      <td>0.00000</td>\n",
       "      <td>1</td>\n",
       "      <td>174</td>\n",
       "      <td>43</td>\n",
       "    </tr>\n",
       "    <tr>\n",
       "      <th>2</th>\n",
       "      <td>3</td>\n",
       "      <td>6056</td>\n",
       "      <td>3</td>\n",
       "      <td>3.882697</td>\n",
       "      <td>3.484327</td>\n",
       "      <td>Bati</td>\n",
       "      <td>47</td>\n",
       "      <td>Cadre</td>\n",
       "      <td>Homme</td>\n",
       "      <td>1</td>\n",
       "      <td>2.238012</td>\n",
       "      <td>1</td>\n",
       "      <td>0.0</td>\n",
       "      <td>0</td>\n",
       "      <td>0.00000</td>\n",
       "      <td>1</td>\n",
       "      <td>69</td>\n",
       "      <td>135</td>\n",
       "    </tr>\n",
       "    <tr>\n",
       "      <th>3</th>\n",
       "      <td>4</td>\n",
       "      <td>8562</td>\n",
       "      <td>2</td>\n",
       "      <td>2.487469</td>\n",
       "      <td>3.567551</td>\n",
       "      <td>Foncier</td>\n",
       "      <td>45</td>\n",
       "      <td>Autre</td>\n",
       "      <td>Femme</td>\n",
       "      <td>3</td>\n",
       "      <td>2.131952</td>\n",
       "      <td>2</td>\n",
       "      <td>1.0</td>\n",
       "      <td>1</td>\n",
       "      <td>0.34992</td>\n",
       "      <td>0</td>\n",
       "      <td>22</td>\n",
       "      <td>120</td>\n",
       "    </tr>\n",
       "    <tr>\n",
       "      <th>4</th>\n",
       "      <td>5</td>\n",
       "      <td>4629</td>\n",
       "      <td>2</td>\n",
       "      <td>2.532344</td>\n",
       "      <td>4.263836</td>\n",
       "      <td>Matriel</td>\n",
       "      <td>45</td>\n",
       "      <td>Cadre</td>\n",
       "      <td>Homme</td>\n",
       "      <td>1</td>\n",
       "      <td>2.211442</td>\n",
       "      <td>2</td>\n",
       "      <td>0.0</td>\n",
       "      <td>0</td>\n",
       "      <td>0.00000</td>\n",
       "      <td>1</td>\n",
       "      <td>69</td>\n",
       "      <td>57</td>\n",
       "    </tr>\n",
       "  </tbody>\n",
       "</table>\n",
       "</div>"
      ],
      "text/plain": [
       "   Unnamed: 0    id  matrim    credit  garantie nat_garnt  age         csp  \\\n",
       "0           1  6671       2  4.153989  4.302526   Foncier   43  Commerçant   \n",
       "1           2  5472       2  2.787130  3.242960    Autres   36  Commerçant   \n",
       "2           3  6056       3  3.882697  3.484327      Bati   47       Cadre   \n",
       "3           4  8562       2  2.487469  3.567551   Foncier   45       Autre   \n",
       "4           5  4629       2  2.532344  4.263836   Matriel   45       Cadre   \n",
       "\n",
       "    sexe  nbincident      cout  education  secteur  reactivite  recouvre  \\\n",
       "0  Homme           1  2.034492          1      1.0           0   0.00000   \n",
       "1  Homme           1  2.739116          2      0.0           0   0.00000   \n",
       "2  Homme           1  2.238012          1      0.0           0   0.00000   \n",
       "3  Femme           3  2.131952          2      1.0           1   0.34992   \n",
       "4  Homme           1  2.211442          2      0.0           0   0.00000   \n",
       "\n",
       "   defaut_paie  csp_count  nat_garnt_count  \n",
       "0            1        174              120  \n",
       "1            1        174               43  \n",
       "2            1         69              135  \n",
       "3            0         22              120  \n",
       "4            1         69               57  "
      ]
     },
     "execution_count": 34,
     "metadata": {},
     "output_type": "execute_result"
    }
   ],
   "source": [
    "data.head()"
   ]
  },
  {
   "cell_type": "code",
   "execution_count": 35,
   "id": "feba08ce",
   "metadata": {},
   "outputs": [],
   "source": [
    "data= data.drop(labels=['csp', 'nat_garnt'], axis=1)\n",
    "onehot_encoder = OneHotEncoder(sparse = False)\n",
    "data['sexe'] = onehot_encoder.fit_transform(data['sexe'].values.reshape(-1, 1) )"
   ]
  },
  {
   "cell_type": "code",
   "execution_count": 36,
   "id": "190355c1",
   "metadata": {},
   "outputs": [
    {
     "data": {
      "text/html": [
       "<div>\n",
       "<style scoped>\n",
       "    .dataframe tbody tr th:only-of-type {\n",
       "        vertical-align: middle;\n",
       "    }\n",
       "\n",
       "    .dataframe tbody tr th {\n",
       "        vertical-align: top;\n",
       "    }\n",
       "\n",
       "    .dataframe thead th {\n",
       "        text-align: right;\n",
       "    }\n",
       "</style>\n",
       "<table border=\"1\" class=\"dataframe\">\n",
       "  <thead>\n",
       "    <tr style=\"text-align: right;\">\n",
       "      <th></th>\n",
       "      <th>Unnamed: 0</th>\n",
       "      <th>id</th>\n",
       "      <th>matrim</th>\n",
       "      <th>credit</th>\n",
       "      <th>garantie</th>\n",
       "      <th>age</th>\n",
       "      <th>sexe</th>\n",
       "      <th>nbincident</th>\n",
       "      <th>cout</th>\n",
       "      <th>education</th>\n",
       "      <th>secteur</th>\n",
       "      <th>reactivite</th>\n",
       "      <th>recouvre</th>\n",
       "      <th>defaut_paie</th>\n",
       "      <th>csp_count</th>\n",
       "      <th>nat_garnt_count</th>\n",
       "    </tr>\n",
       "  </thead>\n",
       "  <tbody>\n",
       "    <tr>\n",
       "      <th>0</th>\n",
       "      <td>1</td>\n",
       "      <td>6671</td>\n",
       "      <td>2</td>\n",
       "      <td>4.153989</td>\n",
       "      <td>4.302526</td>\n",
       "      <td>43</td>\n",
       "      <td>0.0</td>\n",
       "      <td>1</td>\n",
       "      <td>2.034492</td>\n",
       "      <td>1</td>\n",
       "      <td>1.0</td>\n",
       "      <td>0</td>\n",
       "      <td>0.00000</td>\n",
       "      <td>1</td>\n",
       "      <td>174</td>\n",
       "      <td>120</td>\n",
       "    </tr>\n",
       "    <tr>\n",
       "      <th>1</th>\n",
       "      <td>2</td>\n",
       "      <td>5472</td>\n",
       "      <td>2</td>\n",
       "      <td>2.787130</td>\n",
       "      <td>3.242960</td>\n",
       "      <td>36</td>\n",
       "      <td>0.0</td>\n",
       "      <td>1</td>\n",
       "      <td>2.739116</td>\n",
       "      <td>2</td>\n",
       "      <td>0.0</td>\n",
       "      <td>0</td>\n",
       "      <td>0.00000</td>\n",
       "      <td>1</td>\n",
       "      <td>174</td>\n",
       "      <td>43</td>\n",
       "    </tr>\n",
       "    <tr>\n",
       "      <th>2</th>\n",
       "      <td>3</td>\n",
       "      <td>6056</td>\n",
       "      <td>3</td>\n",
       "      <td>3.882697</td>\n",
       "      <td>3.484327</td>\n",
       "      <td>47</td>\n",
       "      <td>0.0</td>\n",
       "      <td>1</td>\n",
       "      <td>2.238012</td>\n",
       "      <td>1</td>\n",
       "      <td>0.0</td>\n",
       "      <td>0</td>\n",
       "      <td>0.00000</td>\n",
       "      <td>1</td>\n",
       "      <td>69</td>\n",
       "      <td>135</td>\n",
       "    </tr>\n",
       "    <tr>\n",
       "      <th>3</th>\n",
       "      <td>4</td>\n",
       "      <td>8562</td>\n",
       "      <td>2</td>\n",
       "      <td>2.487469</td>\n",
       "      <td>3.567551</td>\n",
       "      <td>45</td>\n",
       "      <td>1.0</td>\n",
       "      <td>3</td>\n",
       "      <td>2.131952</td>\n",
       "      <td>2</td>\n",
       "      <td>1.0</td>\n",
       "      <td>1</td>\n",
       "      <td>0.34992</td>\n",
       "      <td>0</td>\n",
       "      <td>22</td>\n",
       "      <td>120</td>\n",
       "    </tr>\n",
       "    <tr>\n",
       "      <th>4</th>\n",
       "      <td>5</td>\n",
       "      <td>4629</td>\n",
       "      <td>2</td>\n",
       "      <td>2.532344</td>\n",
       "      <td>4.263836</td>\n",
       "      <td>45</td>\n",
       "      <td>0.0</td>\n",
       "      <td>1</td>\n",
       "      <td>2.211442</td>\n",
       "      <td>2</td>\n",
       "      <td>0.0</td>\n",
       "      <td>0</td>\n",
       "      <td>0.00000</td>\n",
       "      <td>1</td>\n",
       "      <td>69</td>\n",
       "      <td>57</td>\n",
       "    </tr>\n",
       "  </tbody>\n",
       "</table>\n",
       "</div>"
      ],
      "text/plain": [
       "   Unnamed: 0    id  matrim    credit  garantie  age  sexe  nbincident  \\\n",
       "0           1  6671       2  4.153989  4.302526   43   0.0           1   \n",
       "1           2  5472       2  2.787130  3.242960   36   0.0           1   \n",
       "2           3  6056       3  3.882697  3.484327   47   0.0           1   \n",
       "3           4  8562       2  2.487469  3.567551   45   1.0           3   \n",
       "4           5  4629       2  2.532344  4.263836   45   0.0           1   \n",
       "\n",
       "       cout  education  secteur  reactivite  recouvre  defaut_paie  csp_count  \\\n",
       "0  2.034492          1      1.0           0   0.00000            1        174   \n",
       "1  2.739116          2      0.0           0   0.00000            1        174   \n",
       "2  2.238012          1      0.0           0   0.00000            1         69   \n",
       "3  2.131952          2      1.0           1   0.34992            0         22   \n",
       "4  2.211442          2      0.0           0   0.00000            1         69   \n",
       "\n",
       "   nat_garnt_count  \n",
       "0              120  \n",
       "1               43  \n",
       "2              135  \n",
       "3              120  \n",
       "4               57  "
      ]
     },
     "execution_count": 36,
     "metadata": {},
     "output_type": "execute_result"
    }
   ],
   "source": [
    "data.head()"
   ]
  },
  {
   "cell_type": "code",
   "execution_count": 37,
   "id": "9aefc928",
   "metadata": {},
   "outputs": [],
   "source": [
    "x = data.drop(\"defaut_paie\", axis=1)\n",
    "y = data[\"defaut_paie\"]"
   ]
  },
  {
   "cell_type": "code",
   "execution_count": 38,
   "id": "b5c6603d",
   "metadata": {},
   "outputs": [],
   "source": [
    "from sklearn.model_selection import train_test_split\n",
    "x_train, x_test, y_train, y_test = train_test_split(x, y, test_size = 0.2, stratify = y, random_state = 7)"
   ]
  },
  {
   "cell_type": "code",
   "execution_count": null,
   "id": "ce378c26",
   "metadata": {},
   "outputs": [],
   "source": []
  },
  {
   "cell_type": "code",
   "execution_count": 39,
   "id": "83b9d3fe",
   "metadata": {},
   "outputs": [],
   "source": [
    "from sklearn.ensemble import RandomForestClassifier\n",
    "from imblearn.over_sampling import SMOTE\n",
    "from imblearn.pipeline import Pipeline"
   ]
  },
  {
   "cell_type": "code",
   "execution_count": 40,
   "id": "23d1e58f",
   "metadata": {},
   "outputs": [],
   "source": [
    "rf_clf = RandomForestClassifier(criterion='gini', bootstrap=True, random_state=100)\n",
    "\n",
    "smote_sampler = SMOTE(random_state=9)\n",
    "\n",
    "pipeline = Pipeline(steps = [['smote', smote_sampler],\n",
    "                             ['classifier', rf_clf]])\n",
    "\n",
    "pipeline.fit(x_train, y_train)\n",
    "\n",
    "y_pred = pipeline.predict(x_test)"
   ]
  },
  {
   "cell_type": "code",
   "execution_count": 41,
   "id": "de4b41c5",
   "metadata": {},
   "outputs": [
    {
     "name": "stdout",
     "output_type": "stream",
     "text": [
      "-------------------------TEST SCORES-----------------------\n",
      "Recall: 100.0\n",
      "Precision: 100.0\n",
      "F1-Score: 100.0\n",
      "Accuracy score: 100.0\n",
      "AUC Score: 100.0\n"
     ]
    }
   ],
   "source": [
    "from sklearn.metrics import confusion_matrix, precision_score, recall_score, f1_score, accuracy_score, roc_auc_score\n",
    "\n",
    "print(\"-------------------------TEST SCORES-----------------------\") \n",
    "print(f\"Recall: { round(recall_score(y_test, y_pred)*100, 4) }\")\n",
    "print(f\"Precision: { round(precision_score(y_test, y_pred)*100, 4) }\")\n",
    "print(f\"F1-Score: { round(f1_score(y_test, y_pred)*100, 4) }\")\n",
    "print(f\"Accuracy score: { round(accuracy_score(y_test, y_pred)*100, 4) }\")\n",
    "print(f\"AUC Score: { round(roc_auc_score(y_test, y_pred)*100, 4) }\")"
   ]
  },
  {
   "cell_type": "code",
   "execution_count": 48,
   "id": "85a0fd2d",
   "metadata": {},
   "outputs": [
    {
     "name": "stdout",
     "output_type": "stream",
     "text": [
      "Accuracy Score: 1.0\n",
      "Confusion Matrix: \n",
      "[[26  0]\n",
      " [ 0 45]]\n",
      "Classification Report: \n",
      "              precision    recall  f1-score   support\n",
      "\n",
      "           0       1.00      1.00      1.00        26\n",
      "           1       1.00      1.00      1.00        45\n",
      "\n",
      "    accuracy                           1.00        71\n",
      "   macro avg       1.00      1.00      1.00        71\n",
      "weighted avg       1.00      1.00      1.00        71\n",
      "\n"
     ]
    }
   ],
   "source": [
    "import gradio as gr\n",
    "import pandas as pd\n",
    "from sklearn.preprocessing import StandardScaler, OneHotEncoder\n",
    "from sklearn.compose import ColumnTransformer\n",
    "from sklearn.pipeline import Pipeline\n",
    "from sklearn.linear_model import SGDClassifier\n",
    "\n",
    "# Step 1: Load the data and preprocess\n",
    "data = pd.read_excel('C:/Users/HP/Downloads/stage/Donneé/Etude_scoring.xlsx')\n",
    "data = data.drop(['id', 'sexe', 'nbincident', 'cout', 'recouvre'], axis=1)\n",
    "\n",
    "X = data.drop(['defaut_paie'], axis=1)\n",
    "y = data['defaut_paie']\n",
    "\n",
    "# Handle categorical values\n",
    "categorical_features = ['matrim', 'nat_garnt', 'csp', 'education', 'secteur']\n",
    "for feature in categorical_features:\n",
    "    X[feature] = X[feature].astype('category')\n",
    "\n",
    "numeric_features = X.select_dtypes(include=['int64', 'float64']).columns\n",
    "categorical_features = X.select_dtypes(include=['category']).columns\n",
    "\n",
    "preprocessor = ColumnTransformer(\n",
    "    transformers=[\n",
    "        ('num', StandardScaler(), numeric_features),\n",
    "        ('cat', OneHotEncoder(), categorical_features)], remainder='passthrough')\n",
    "\n",
    "clf = Pipeline(steps=[('preprocessor', preprocessor),\n",
    "                      ('classifier', SGDClassifier(loss='log'))])\n",
    "\n",
    "clf.fit(X, y)\n",
    "\n",
    "# Step 8: Evaluate the model\n",
    "y_pred = clf.predict(X_test)\n",
    "print(f'Accuracy Score: {accuracy_score(y_test, y_pred)}')\n",
    "print(f'Confusion Matrix: \\n{confusion_matrix(y_test, y_pred)}')\n",
    "print(f'Classification Report: \\n{classification_report(y_test, y_pred)}')\n"
   ]
  },
  {
   "cell_type": "code",
   "execution_count": null,
   "id": "b9bbb22f",
   "metadata": {
    "scrolled": true
   },
   "outputs": [
    {
     "name": "stderr",
     "output_type": "stream",
     "text": [
      "C:\\Users\\HP\\anaconda3\\lib\\site-packages\\gradio\\inputs.py:217: UserWarning: Usage of gradio.inputs is deprecated, and will not be supported in the future, please import your component from gradio.components\n",
      "  warnings.warn(\n",
      "C:\\Users\\HP\\anaconda3\\lib\\site-packages\\gradio\\deprecation.py:40: UserWarning: `optional` parameter is deprecated, and it has no effect\n",
      "  warnings.warn(value)\n",
      "C:\\Users\\HP\\anaconda3\\lib\\site-packages\\gradio\\inputs.py:59: UserWarning: Usage of gradio.inputs is deprecated, and will not be supported in the future, please import your component from gradio.components\n",
      "  warnings.warn(\n",
      "C:\\Users\\HP\\anaconda3\\lib\\site-packages\\gradio\\outputs.py:22: UserWarning: Usage of gradio.outputs is deprecated, and will not be supported in the future, please import your components from gradio.components\n",
      "  warnings.warn(\n"
     ]
    },
    {
     "name": "stdout",
     "output_type": "stream",
     "text": [
      "Running on local URL:  http://127.0.0.1:7867\n",
      "\n",
      "To create a public link, set `share=True` in `launch()`.\n"
     ]
    },
    {
     "data": {
      "text/html": [
       "<div><iframe src=\"http://127.0.0.1:7867/\" width=\"100%\" height=\"500\" allow=\"autoplay; camera; microphone; clipboard-read; clipboard-write;\" frameborder=\"0\" allowfullscreen></iframe></div>"
      ],
      "text/plain": [
       "<IPython.core.display.HTML object>"
      ]
     },
     "metadata": {},
     "output_type": "display_data"
    }
   ],
   "source": [
    "# Step 2: Define the prediction function\n",
    "def predict_loan_default(matrim, credit, garantie, nat_garnt, age, csp, education, secteur, reactivite):\n",
    "    input_data = pd.DataFrame({\n",
    "        'matrim': [matrim],\n",
    "        'credit': [credit],\n",
    "        'garantie': [garantie],\n",
    "        'nat_garnt': [nat_garnt],\n",
    "        'age': [age],\n",
    "        'csp': [csp],\n",
    "        'education': [education],\n",
    "        'secteur': [secteur],\n",
    "        'reactivite': [reactivite]\n",
    "    })\n",
    "    input_data['nat_garnt'] = input_data['nat_garnt'].astype('category')  # Convert to categorical\n",
    "    prediction = clf.predict(input_data)[0]\n",
    "    return 'Default' if prediction == 1 else 'No default'\n",
    "\n",
    "\n",
    "# Step 3: Define the Gradio interface\n",
    "iface = gr.Interface(\n",
    "    fn=predict_loan_default,\n",
    "    inputs=[\n",
    "        gr.inputs.Dropdown(['Marié', 'Divorcé', 'Autre'], label='Matrim'),\n",
    "        gr.inputs.Number(label='Credit'),\n",
    "        gr.inputs.Number(label='Garantie'),\n",
    "        gr.inputs.Dropdown(['Foncier', 'Bati', 'Autres', 'Matriel'], label='Nat_Garnt'),\n",
    "        gr.inputs.Number(label='Age'),\n",
    "        gr.inputs.Dropdown(['Commerçant', 'Cadre', 'Autre'], label='CSP'),\n",
    "        gr.inputs.Dropdown(['Bac+', 'Bac+5', 'Traditionnel'], label='Education'),\n",
    "        gr.inputs.Dropdown(['agriculture', 'commerce', 'tourisme', 'tic', 'industrie'], label='Secteur'),\n",
    "        gr.inputs.Number(label='Reactivite')\n",
    "    ],\n",
    "    outputs=gr.outputs.Textbox(label='Prediction')\n",
    ")\n",
    "\n",
    "# Step 4: Launch the interface\n",
    "iface.launch()"
   ]
  },
  {
   "cell_type": "code",
   "execution_count": null,
   "id": "c349b0bd",
   "metadata": {},
   "outputs": [],
   "source": []
  }
 ],
 "metadata": {
  "kernelspec": {
   "display_name": "Python 3 (ipykernel)",
   "language": "python",
   "name": "python3"
  },
  "language_info": {
   "codemirror_mode": {
    "name": "ipython",
    "version": 3
   },
   "file_extension": ".py",
   "mimetype": "text/x-python",
   "name": "python",
   "nbconvert_exporter": "python",
   "pygments_lexer": "ipython3",
   "version": "3.9.12"
  }
 },
 "nbformat": 4,
 "nbformat_minor": 5
}
